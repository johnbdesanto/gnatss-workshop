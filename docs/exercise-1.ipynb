{
 "cells": [
  {
   "cell_type": "markdown",
   "metadata": {},
   "source": [
    "---\n",
    "authors:\n",
    "  - name: \"John B. DeSanto\"\n",
    "    id: johnbdesanto\n",
    "    affiliations:\n",
    "      - id: uw-ess\n",
    "    orcid: \"0000-0003-4997-364X\"\n",
    "    github: johnbdesanto\n",
    "---\n",
    "\n",
    "# **Exercise 1: Introduction to GNATSS**"
   ]
  },
  {
   "cell_type": "markdown",
   "metadata": {},
   "source": [
    "This exercise will introduce the basic functionality of GNATSS. We will review the required input files and the different modules of the software, as well as process an example data set. At the end of this exercise you should be able to:\n",
    "\n",
    "* Open and tailor a GNATSS configuration file\n",
    "* Execute a GNATSS processing run\n",
    "* Understand the purpose of the posfilter and solver modules\n",
    "* Access GNATSS output files\n",
    "\n",
    "Users are recommended to follow this in a github Codespace, where they can directly interact with the required files. The data can be processed either on the command line interface or within this notebook."
   ]
  },
  {
   "cell_type": "markdown",
   "metadata": {},
   "source": [
    "## Files present"
   ]
  },
  {
   "cell_type": "markdown",
   "metadata": {},
   "source": [
    "In this directory you will find a folder called `2022` which contains three items of interest:\n",
    "\n",
    "* A folder `NCL1` which contains the raw data for this exercise\n",
    "* A folder `output` where the results of this exercise will be stored\n",
    "* A configuration file `config.yaml`\n",
    "\n",
    "The data we will process here is part of the data set collected at a GNSS-Acoustic site NCL1 offshore Cape Lookout, OR during the summer of 2022 as part of the Near-trench Community Geodesy Experiment. It was collected by a Liquid Robots model SV-3 Wave Glider operating a Sonardyne GNSS-A payload, and has been transcribed from the raw glider output to ASCII input files easily read by machine or human."
   ]
  },
  {
   "cell_type": "markdown",
   "metadata": {},
   "source": [
    "## Configuration File"
   ]
  },
  {
   "cell_type": "markdown",
   "metadata": {},
   "source": [
    "Let's start by opening the configuration file so that we can assess the information required in order to run GNATSS. This file is in a [YAML](https://yaml.org/spec/1.2.2/) format, which is a data serialization language that can be easily parsed by both machines and humans. It consists of ASCII text blocks that define different configuration specifications defined within GNATSS itself. The indentation governs how variables are nested within each text block, and individual variables are reported as `key: value` pairs, with the `key` telling GNATSS which variable the value describes and the `value` being the variable itself. The input for variables is flexible and can be strings, integers, or booleans, as needed.\n",
    "\n",
    "This configuration file has 4 text blocks, described below."
   ]
  },
  {
   "cell_type": "markdown",
   "metadata": {},
   "source": [
    "### Metadata"
   ]
  },
  {
   "cell_type": "markdown",
   "metadata": {},
   "source": [
    "The metadata block defines site parameters essential for processing GNSS-A data. These parameters should be static and unique to the individual site. For this example the metadata is:"
   ]
  },
  {
   "cell_type": "markdown",
   "metadata": {},
   "source": [
    "\n",
    "```\n",
    "site_id: NCL1\n",
    "campaign: Cascadia\n",
    "time_origin: 2022-09-28 00:00:00\n",
    "array_center:\n",
    "  lat: 45.3023\n",
    "  lon: -124.9656\n",
    "transponders:\n",
    "  - lat: 45.302064471\n",
    "    lon: -124.978181346\n",
    "    height: -1176.5866\n",
    "    internal_delay: 0.200000\n",
    "    sv_mean: 1481.551\n",
    "  - lat: 45.295207747\n",
    "    lon: -124.958752845\n",
    "    height: -1146.5881\n",
    "    internal_delay: 0.320000\n",
    "    sv_mean: 1481.521\n",
    "  - lat: 45.309643593\n",
    "    lon: -124.959348875\n",
    "    height: -1133.7305\n",
    "    internal_delay: 0.440000\n",
    "    sv_mean: 1481.509\n",
    "travel_times_variance: 1e-10\n",
    "travel_times_correction: 0.0\n",
    "transducer_delay_time: 0.0\n",
    "```\n"
   ]
  },
  {
   "cell_type": "markdown",
   "metadata": {},
   "source": [
    "Of particular note are the array center, defined as the point on the sea surface where the acoustic two-way travel times to each transponder are equivalent, and the transponders metadata. Currently, GNATSS is configured to process data for arrays of three transponders under the assumption that the surface platform (wave glider or ship) interrogates the transponders from the array center and that each transponder replies individually to each ping. In order to guard against overlapping replies, the transponders have a user-defined internal delay (known as the turn-around time or TAT) that staggers the repies. GNATSS automatically removes the TAT when interpreting acoustic data."
   ]
  },
  {
   "cell_type": "markdown",
   "metadata": {},
   "source": [
    "### Posfilter"
   ]
  },
  {
   "cell_type": "markdown",
   "metadata": {},
   "source": [
    "The posfilter block defines parameters required for pre-processing the GNSS-A data and preparing it for the solver by calculating the position of the transducer when pings are sent and replies are received. For a more detailed description of the operations performed, please see the [GNATSS documentation](https://gnatss.readthedocs.io/en/latest/gnssa_preprocessing.html). In brief, this module performs the following steps:\n",
    "\n",
    "1. Interpolate 1Hz antenna positions to epochs at ping send and reply using a Kalman filter\n",
    "2. Interpolate 20H inertial navigation system (INS) orientations to epochs at ping send and reply using a simple spline\n",
    "3. Transform the antenna positions into transducer positions using a rotation of the rigid bodyframe offset between antenna and transducer (also called the antenna-transducer displacement or ATD offset)\n",
    "\n",
    "This module generates an output file called `gps_solution.csv` in the user-designated output folder. This file includes the travel time and transducer positions for each ping reply in the [Community Standard GNSS-A format](https://hal.science/hal-04319233/).\n",
    "\n",
    "The posfilter block for this exercise is:"
   ]
  },
  {
   "cell_type": "markdown",
   "metadata": {},
   "source": [
    "```\n",
    "# Posfilter configuration\n",
    "posfilter:\n",
    "  export:\n",
    "    full: false # Don't change this\n",
    "  atd_offsets:\n",
    "    forward: 0.0053\n",
    "    rightward: 0\n",
    "    downward: 0.92813\n",
    "  input_files:\n",
    "    novatel:\n",
    "      path: ../data/exercise-1/2022/NCL1/NOV/NCL1_INSPVAA.dat\n",
    "    novatel_std:\n",
    "      path: ../data/exercise-1/2022/NCL1/NOV/NCL1_INSSTDEVA.dat\n",
    "    gps_positions:\n",
    "      path: ../data/exercise-1/2022/NCL1/**/GPS_PPP/GPS_POS_FREED\n",
    "    travel_times:\n",
    "      path: ../data/exercise-1/2022/NCL1/**/WG_*/pxp_tt\n",
    "```"
   ]
  },
  {
   "cell_type": "markdown",
   "metadata": {},
   "source": [
    "Because the surface platform in this exercise is a wave glider, the ATD offsets are known since they were directly measured. The input files are all ASCII text files so you may inspect them as desired. Otherwise, they are described in detail on the [L-1 Data](https://gnatss.readthedocs.io/en/latest/input.html#l-1-data) section of the GNATSS documentation."
   ]
  },
  {
   "cell_type": "markdown",
   "metadata": {},
   "source": [
    "### Solver"
   ]
  },
  {
   "cell_type": "markdown",
   "metadata": {},
   "source": [
    "The solver block defines parameters required to calculate an array position from the `gps_solution.csv` file generated by the posfilter and a user-provided sound velocity profile. The solver input for this exercise is:"
   ]
  },
  {
   "cell_type": "markdown",
   "metadata": {},
   "source": [
    "```\n",
    "# Solver configuration\n",
    "solver:\n",
    "  reference_ellipsoid:\n",
    "    semi_major_axis: 6378137.000\n",
    "    reverse_flattening: 298.257222101\n",
    "  gps_sigma_limit: 0.05\n",
    "  std_dev: true\n",
    "  geoid_undulation: -26.59\n",
    "  bisection_tolerance: 1e-10\n",
    "  harmonic_mean_start_depth: -4.0\n",
    "  input_files:\n",
    "    sound_speed:\n",
    "      path: ../data/exercise-1/2022/NCL1/ctd/CTD_NCL1_Ch_Mi\n",
    "````"
   ]
  },
  {
   "cell_type": "markdown",
   "metadata": {},
   "source": [
    "Of these parameters, the only one that is site-specific is the geoid height. Other parameters are generally static, although the user can tune the `gps_sigma_limit` parameter if they choose. This governs whether data are included or excluded from the inversion based on whether the 3D RMS of the transducer position uncertainties falls within the threshold. If `gps_sigma_limit` is large more data is included but its positioning may be less well constrained, and vice versa if `gps_sigma_limit` is small.\n",
    "\n",
    "The sound velocity profile is a two-column text file of depth (relative to the sea surface, _not_ the ellipsoid) and sound velocity. It is assumed that the values in the sound velocity profile extend beneath the seafloor, since it is not possible to collect such data in practice it is recommended that the user extrapolates the sound velocity values in the lower 50 m or so of the water column to achieve this."
   ]
  },
  {
   "cell_type": "markdown",
   "metadata": {},
   "source": [
    "### Output"
   ]
  },
  {
   "cell_type": "markdown",
   "metadata": {},
   "source": [
    "The output specifications are simple and define a directory where procesing results are stored. If the directory does not exist, GNATSS will create it."
   ]
  },
  {
   "cell_type": "markdown",
   "metadata": {},
   "source": [
    "```\n",
    "# Output configuration\n",
    "output:\n",
    "  path: ../data/exercise-1/2022/output/\n",
    "```"
   ]
  },
  {
   "cell_type": "markdown",
   "metadata": {},
   "source": [
    "## Running the example"
   ]
  },
  {
   "cell_type": "markdown",
   "metadata": {},
   "source": [
    "Now that we have introduced the input data, we are ready to run this processing example. If you are following along within the Jupyter notebook, import the main executable of gnatss as a dependency:"
   ]
  },
  {
   "cell_type": "code",
   "execution_count": 1,
   "metadata": {},
   "outputs": [],
   "source": [
    "from gnatss.main import run_gnatss"
   ]
  },
  {
   "cell_type": "markdown",
   "metadata": {},
   "source": [
    "Before we run any processing, let's quickly assess how to use GNATSS. If you are on the command line, enter the command `gnatss run --help`. The equivalent in python is:"
   ]
  },
  {
   "cell_type": "code",
   "execution_count": 2,
   "metadata": {},
   "outputs": [
    {
     "name": "stdout",
     "output_type": "stream",
     "text": [
      "Help on function run_gnatss in module gnatss.main:\n",
      "\n",
      "run_gnatss(config_yaml: 'str', distance_limit: 'float | None' = None, residual_limit: 'float | None' = None, residual_range_limit: 'float | None' = None, outlier_threshold: 'float | None' = None, from_cache: 'bool' = False, return_raw: 'bool' = False, remove_outliers: 'bool' = False, extract_process_dataset: 'bool' = True, extract_dist_center: 'bool' = True, qc: 'bool' = True, skip_posfilter: 'bool' = False, skip_solver: 'bool' = False) -> 'tuple[Configuration, dict[str, any]]'\n",
      "    The main function to run GNATSS from end-to-end.\n",
      "    \n",
      "    Parameters\n",
      "    ----------\n",
      "    config_yaml : str\n",
      "        Path to the configuration yaml file\n",
      "    \n",
      "    distance_limit : float | None, optional\n",
      "        Distance in meters from center beyond\n",
      "        which points will be excluded from solution\n",
      "    \n",
      "        *Setting this argument will override the value set in the configuration.*\n",
      "    \n",
      "    residual_limit : float | None, optional\n",
      "        Maximum residual in centimeters beyond\n",
      "        which data points will be excluded from solution\n",
      "    \n",
      "        *Setting this argument will override the value set in the configuration.*\n",
      "    \n",
      "    residual_range_limit : float | None, optional\n",
      "        Maximum residual range (maximum - minimum) in centimeters for\n",
      "        a given epoch, beyond which data points will be excluded from solution\n",
      "    \n",
      "        *Setting this argument will override the value set in the configuration.*\n",
      "    \n",
      "    outlier_threshold : float | None, optional\n",
      "        Residual outliers threshold acceptable before throwing an error in percent\n",
      "    \n",
      "        *Setting this argument will override the value set in the configuration.*\n",
      "    \n",
      "    from_cache : bool, optional\n",
      "        Flag to load the GNSS-A Level-2 Data from cache.\n",
      "    \n",
      "        *Setting this to ``True`` will load the data from the cache output directory\n",
      "        set in the configuration*\n",
      "    \n",
      "    return_raw : bool, optional\n",
      "        Flag to return raw processing data as\n",
      "        part of the result dictionary, by default False\n",
      "    \n",
      "    remove_outliers : bool, optional\n",
      "        Flag to execute removing outliers from the GNSS-A Level-2 Data\n",
      "        before running the solver process, by default False\n",
      "    \n",
      "    extract_process_dataset : bool, optional\n",
      "        Flag to extract the process dataset as a netCDF file, by default True\n",
      "    \n",
      "    extract_dist_center : bool, optional\n",
      "        Flag to extract the distance from center as a CSV file, by default True\n",
      "    \n",
      "    qc : bool, optional\n",
      "        Flag to plot residuals from run and store in output folder, by default True\n",
      "    \n",
      "    skip_posfilter : bool, optional\n",
      "        Flag to skip the posfilter step, by default False\n",
      "    \n",
      "    skip_solver : bool, optional\n",
      "        Flag to skip the solver step, by default False\n",
      "    \n",
      "    Returns\n",
      "    -------\n",
      "    config : Configuration\n",
      "        Configuration object containing all the configuration values\n",
      "    data_dict : dict\n",
      "        Dictionary containing the results of the GNATSS run\n",
      "\n"
     ]
    }
   ],
   "source": [
    "help(run_gnatss)"
   ]
  },
  {
   "cell_type": "markdown",
   "metadata": {},
   "source": [
    "The primary input for GNATSS is the configuration file, with other flags being optional. The only other option we will use for this example is a distance threshold. GNATSS assumes that the wave glider collects data from the center of the array and the processing will start to break down if it drifts too far from this position, so the distance threshold allows the user to automatically ignore any pings collected when the glider was off station. A value of 150 m is recommended, but can be tuned to be more or less strict depending on the context of the survey.\n",
    "\n",
    "To execute the gnatss example in the command line, enter\n",
    "\n",
    "```\n",
    "gnatss run --distance-limit 150 ../data/exercise-1/config.yaml\n",
    "```\n",
    "\n",
    "In python:"
   ]
  },
  {
   "cell_type": "code",
   "execution_count": 3,
   "metadata": {},
   "outputs": [],
   "source": [
    "# Set input variables\n",
    "\n",
    "config_yaml = \"../data/exercise-1/config.yaml\"\n",
    "distance_limit = 150"
   ]
  },
  {
   "cell_type": "code",
   "execution_count": 4,
   "metadata": {},
   "outputs": [
    {
     "name": "stdout",
     "output_type": "stream",
     "text": [
      "Starting GNATSS ...\n",
      "Gathering gps_positions at ../data/exercise-1/2022/NCL1/**/GPS_PPP/GPS_POS_FREED\n",
      "Gathering novatel at ../data/exercise-1/2022/NCL1/NOV/NCL1_INSPVAA.dat\n",
      "Gathering novatel_std at ../data/exercise-1/2022/NCL1/NOV/NCL1_INSSTDEVA.dat\n",
      "Gathering travel_times at ../data/exercise-1/2022/NCL1/**/WG_*/pxp_tt\n",
      "Gathering sound_speed at ../data/exercise-1/2022/NCL1/ctd/CTD_NCL1_Ch_Mi\n",
      "Loading gps_positions from ../data/exercise-1/2022/NCL1/**/GPS_PPP/GPS_POS_FREED\n",
      "Loading novatel from ../data/exercise-1/2022/NCL1/NOV/NCL1_INSPVAA.dat\n",
      "Loading novatel_std from ../data/exercise-1/2022/NCL1/NOV/NCL1_INSSTDEVA.dat\n",
      "Loading travel_times from ../data/exercise-1/2022/NCL1/**/WG_*/pxp_tt\n",
      "Loading sound_speed from ../data/exercise-1/2022/NCL1/ctd/CTD_NCL1_Ch_Mi\n",
      "Loading deletions from ../data/exercise-1/output/\n",
      "Preprocessing Travel Times Data\n",
      "Finished Preprocessing Travel Times Data\n",
      "Performing Kalman filtering ...\n",
      "Performing Spline Interpolation ...\n",
      "Performing Rotation ...\n",
      "Standardizing data to specification version v1 ...\n",
      "Filtering observations columns for necessary columns only...\n",
      "Exporting gps_solution to gps_solution.csv ...\n",
      "Successfully exported data to ../data/exercise-1/output/gps_solution.csv\n",
      "Filtering out data outside of distance limit...\n",
      "Pre-filtering data with fewer than 3 replies...\n",
      "Computing harmonic mean...\n",
      "lat=45.302064471 lon=-124.978181346 height=-1176.5866 alt=-1176.5866 internal_delay=0.2 sv_mean=1481.551 pxp_id='NCL1-1' azimuth=-178.48 elevation=39.99\n",
      "lat=45.295207747 lon=-124.958752845 height=-1146.5881 alt=-1146.5881 internal_delay=0.32 sv_mean=1481.521 pxp_id='NCL1-2' azimuth=-55.73 elevation=39.75\n",
      "lat=45.309643593 lon=-124.959348875 height=-1133.7305 alt=-1133.7305 internal_delay=0.44 sv_mean=1481.509 pxp_id='NCL1-3' azimuth=59.01 elevation=40.02\n",
      "Finished computing harmonic mean\n",
      "Preparing data inputs...\n",
      "Perform solve...\n",
      "--- 5351 epochs, 16053 measurements ---\n",
      "After iteration: 1, rms residual = 2071.8 cm, error factor = 910.207\n",
      "NCL1-1\n",
      "D_x = -3.235079e-02 m, Sigma(x) = 1.541542e-04 m\n",
      "D_y = -4.642888e-01 m, Sigma(y) = 1.621243e-04 m\n",
      "D_z = 5.329845e-01 m, Sigma(z) = 1.655909e-04 m\n",
      "NCL1-2\n",
      "D_x = -3.235079e-02 m, Sigma(x) = 1.541542e-04 m\n",
      "D_y = -4.642888e-01 m, Sigma(y) = 1.621243e-04 m\n",
      "D_z = 5.329845e-01 m, Sigma(z) = 1.655909e-04 m\n",
      "NCL1-3\n",
      "D_x = -3.235079e-02 m, Sigma(x) = 1.541542e-04 m\n",
      "D_y = -4.642888e-01 m, Sigma(y) = 1.621243e-04 m\n",
      "D_z = 5.329845e-01 m, Sigma(z) = 1.655909e-04 m\n",
      "\n",
      "After iteration: 2, rms residual = 2069.22 cm, error factor = 909.064\n",
      "NCL1-1\n",
      "D_x = -1.143910e-04 m, Sigma(x) = 1.541196e-04 m\n",
      "D_y = -3.441763e-05 m, Sigma(y) = 1.621054e-04 m\n",
      "D_z = 6.158836e-05 m, Sigma(z) = 1.655828e-04 m\n",
      "NCL1-2\n",
      "D_x = -1.143910e-04 m, Sigma(x) = 1.541196e-04 m\n",
      "D_y = -3.441763e-05 m, Sigma(y) = 1.621054e-04 m\n",
      "D_z = 6.158836e-05 m, Sigma(z) = 1.655828e-04 m\n",
      "NCL1-3\n",
      "D_x = -1.143910e-04 m, Sigma(x) = 1.541196e-04 m\n",
      "D_y = -3.441763e-05 m, Sigma(y) = 1.621054e-04 m\n",
      "D_z = 6.158836e-05 m, Sigma(z) = 1.655828e-04 m\n",
      "\n",
      "After iteration: 3, rms residual = 2069.22 cm, error factor = 909.064\n",
      "NCL1-1\n",
      "D_x = 4.100634e-09 m, Sigma(x) = 1.541196e-04 m\n",
      "D_y = -2.947864e-10 m, Sigma(y) = 1.621054e-04 m\n",
      "D_z = 1.58229e-09 m, Sigma(z) = 1.655828e-04 m\n",
      "NCL1-2\n",
      "D_x = 4.100642e-09 m, Sigma(x) = 1.541196e-04 m\n",
      "D_y = -2.947931e-10 m, Sigma(y) = 1.621054e-04 m\n",
      "D_z = 1.582280e-09 m, Sigma(z) = 1.655828e-04 m\n",
      "NCL1-3\n",
      "D_x = 4.100638e-09 m, Sigma(x) = 1.541196e-04 m\n",
      "D_y = -2.947935e-10 m, Sigma(y) = 1.621054e-04 m\n",
      "D_z = 1.582277e-09 m, Sigma(z) = 1.655828e-04 m\n",
      "\n",
      "---- FINAL SOLUTION ----\n",
      "NCL1-1\n",
      "x = -2575645.5119 +/- 1.541196e-04 m del_e = 0.2396 +/- 1.627551e-04 m\n",
      "y = -3681386.3658 +/- 1.621054e-04 m del_n = 0.0913 +/- 1.770129e-04 m\n",
      "z = 4510168.4823 +/- 1.655828e-04 m del_u = 0.6596 +/- 1.400923e-04 m\n",
      "Lat. = 45.30206529233141 deg, Long. = -124.97817829079565, Hgt.msl = -1175.9270084617483 m\n",
      "NCL1-2\n",
      "x = -2574719.426 +/- 1.541196e-04 m del_e = 0.2394 +/- 1.627511e-04 m\n",
      "y = -3682720.6572 +/- 1.621054e-04 m del_n = 0.0913 +/- 1.770159e-04 m\n",
      "z = 4509653.877 +/- 1.655828e-04 m del_u = 0.6596 +/- 1.400931e-04 m\n",
      "Lat. = 45.29520856851941 deg, Long. = -124.95874979190383, Hgt.msl = -1145.9284622567632 m\n",
      "NCL1-3\n",
      "x = -2574109.5765 +/- 1.541196e-04 m del_e = 0.2394 +/- 1.627513e-04 m\n",
      "y = -3681766.806 +/- 1.621054e-04 m del_n = 0.0911 +/- 1.770130e-04 m\n",
      "z = 4510791.2645 +/- 1.655828e-04 m del_u = 0.6597 +/- 1.400966e-04 m\n",
      "Lat. = 45.30964441303589 deg, Long. = -124.9593458210821, Hgt.msl = -1133.070841030504 m\n",
      "------------------------\n",
      "\n",
      "There are 1 outliers found during this run.\n",
      "This is 0.02% of the total number of data points.\n",
      "Please re-run the program again with `--remove-outliers` flag to remove these outliers.\n",
      "\n",
      "Exporting residuals to residuals.csv ...\n",
      "Successfully exported data to ../data/exercise-1/output/residuals.csv\n",
      "Exporting outliers to outliers.csv ...\n",
      "Successfully exported data to ../data/exercise-1/output/outliers.csv\n",
      "Exporting distance_from_center to dist_center.csv ...\n",
      "Successfully exported data to ../data/exercise-1/output/dist_center.csv\n",
      "Exporting process_dataset to process_dataset.nc ...\n",
      "Successfully exported data to ../data/exercise-1/output/process_dataset.nc\n",
      "Successfully exported data to ../data/exercise-1/output/residuals.png\n",
      "Successfully exported data to ../data/exercise-1/output/residuals_enu_components.png\n",
      "Finished GNATSS.\n"
     ]
    },
    {
     "data": {
      "image/png": "[encoded data removed]",
      "text/plain": [
       "<Figure size 1000x500 with 1 Axes>"
      ]
     },
     "metadata": {},
     "output_type": "display_data"
    },
    {
     "data": {
      "image/png": "[encoded data removed]",
      "text/plain": [
       "<Figure size 1000x500 with 3 Axes>"
      ]
     },
     "metadata": {},
     "output_type": "display_data"
    }
   ],
   "source": [
    "output = run_gnatss(\n",
    "    config_yaml,\n",
    "    distance_limit=distance_limit\n",
    ")"
   ]
  },
  {
   "cell_type": "markdown",
   "metadata": {},
   "source": [
    "When running, GNATSS generates useful information to standard output that we may use to assess the quality of the inversion. Things that I always pay attention to are the number of epochs included in the inversion (one epoch is equivalent to one ping), the RMS residual, and the error factor. The RMS residual is expressed in centimeters instead of seconds even though it is a travel time residual, this conversion is made by mulitplying the travel time residuals by the harmonic mean sound velocity. The error factor is equivalent to the reduced $\\chi^2$ value of the inversion, and is ideally equal to 1 if the data is well fit by the model. However, since in practice we cannot model the oceanographic variations throughout a survey the error factor will inevitably be greater than 1.\n",
    "\n",
    "The residual plots generated are also an important tool for assessing the quality of the run, although it appears that a single point is obscuring the details in the plots at this time. GNATSS identified this point as an \"outlier\" and provided instructions for how to fix it. We will have a full discussion of what outliers are and how to interpret them in a later exercise. \n",
    "\n",
    "For now, go ahead and follow GNATSS's instructions to remove this outlier in order to refine this solution to something a little more realistic.\n",
    "\n",
    "*Hint: If you have already run the posfilter, you can save some time on subsequent runs by invoking the ``--from-cache`` flag. This will repeat the previous invocation of the solver using the ``gps_solution.csv`` file that the posfilter previously generated.*"
   ]
  },
  {
   "cell_type": "code",
   "execution_count": null,
   "metadata": {},
   "outputs": [],
   "source": []
  }
 ],
 "metadata": {
  "kernelspec": {
   "display_name": "data",
   "language": "python",
   "name": "python3"
  },
  "language_info": {
   "codemirror_mode": {
    "name": "ipython",
    "version": 3
   },
   "file_extension": ".py",
   "mimetype": "text/x-python",
   "name": "python",
   "nbconvert_exporter": "python",
   "pygments_lexer": "ipython3",
   "version": "3.11.13"
  }
 },
 "nbformat": 4,
 "nbformat_minor": 2
}
